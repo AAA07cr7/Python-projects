{
 "cells": [
  {
   "cell_type": "code",
   "execution_count": null,
   "id": "b0929cd0",
   "metadata": {},
   "outputs": [],
   "source": [
    "num1=float(input(\"enter any number: \"))\n",
    "num2=float(input(\"enter second number: \"))\n",
    "operation =input(\"enter the operation you want: \")\n",
    "if(operation==\"+\"):\n",
    "    result =num1+num2\n",
    "    print(\"the sum of num1 and num2 is\",result)\n",
    "elif(operation==\"*\"):\n",
    "    result =num1*num2\n",
    "    print(\"the multiplication of num1 and num2 is\",num1*num2)\n",
    "elif(operation==\"/\"):\n",
    "    result =num1/num2\n",
    "    print(\"the division of num1 and num2 is\",num1/num2)\n",
    "elif(operation==\"-\"):\n",
    "    result =num1-num2\n",
    "    print(\"the substraction of num1 and num2 is\",num1-num2)"
   ]
  },
  {
   "cell_type": "code",
   "execution_count": null,
   "id": "d752cb8e",
   "metadata": {},
   "outputs": [],
   "source": []
  }
 ],
 "metadata": {
  "kernelspec": {
   "display_name": "Python 3 (ipykernel)",
   "language": "python",
   "name": "python3"
  },
  "language_info": {
   "codemirror_mode": {
    "name": "ipython",
    "version": 3
   },
   "file_extension": ".py",
   "mimetype": "text/x-python",
   "name": "python",
   "nbconvert_exporter": "python",
   "pygments_lexer": "ipython3",
   "version": "3.9.12"
  }
 },
 "nbformat": 4,
 "nbformat_minor": 5
}

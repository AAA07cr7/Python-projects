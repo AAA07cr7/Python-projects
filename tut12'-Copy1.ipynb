{
 "cells": [
  {
   "cell_type": "markdown",
   "id": "0eb45359",
   "metadata": {},
   "source": [
    "class poetry():\n",
    "    def __init__(self,title,poems_count,author,price):\n",
    "        self.title=title\n",
    "        self.poems_count=poems_count\n",
    "        self.author=author\n",
    "        self.price=price\n",
    "    def __repr__(self):\n",
    "        return f'poetry : {self.title} by {self.author}, price {self.price}'\n",
    "poem=poetry(\"oops by anmol agrawal\",32,\"pant_bro\",69)\n",
    "print(poem)"
   ]
  },
  {
   "cell_type": "markdown",
   "id": "6b4968a1",
   "metadata": {},
   "source": []
  },
  {
   "cell_type": "code",
   "execution_count": 6,
   "id": "04e7cd40",
   "metadata": {},
   "outputs": [],
   "source": [
    "class poetry():\n",
    "    def __init__(self,title,poems_count,author,price):\n",
    "        self.title=title\n",
    "        self.poems_count=poems_count\n",
    "        self.author=author\n",
    "        self.__price=price\n",
    "        self.__discount= None\n",
    "        \n",
    "    def set_discount(self, value):\n",
    "        self.__discount = value\n",
    "\n",
    "    def get_price(self):\n",
    "        if self.__discount is None:\n",
    "            return self.__price\n",
    "        else:\n",
    "            return self.__price * (1 - self.__discount)\n",
    "    def __repr__(self):\n",
    "        return f'poetry : {self.title} by {self.author}, price {self.get_price()}'\n"
   ]
  },
  {
   "cell_type": "markdown",
   "id": "3ebf5b68",
   "metadata": {},
   "source": []
  },
  {
   "cell_type": "markdown",
   "id": "5f8183e0",
   "metadata": {},
   "source": [
    "###### "
   ]
  },
  {
   "cell_type": "code",
   "execution_count": 7,
   "id": "1b325211",
   "metadata": {},
   "outputs": [
    {
     "name": "stdout",
     "output_type": "stream",
     "text": [
      "600\n",
      "420.0\n",
      "poetry : Leaves of Grass by Walt Whitman, price 600\n",
      "poetry : Leaves of Grass by Walt Whitman, price 420.0\n"
     ]
    }
   ],
   "source": [
    "retail_purchase = poetry('Leaves of Grass', 383, 'Walt Whitman', 600)\n",
    "bulk_purchase = poetry('Leaves of Grass', 383, 'Walt Whitman', 600)\n",
    "\n",
    "bulk_purchase.set_discount(0.30)\n",
    "\n",
    "print(retail_purchase.get_price())\n",
    "print(bulk_purchase.get_price())\n",
    "print(retail_purchase)\n",
    "print(bulk_purchase) "
   ]
  },
  {
   "cell_type": "code",
   "execution_count": null,
   "id": "90923dd5",
   "metadata": {},
   "outputs": [],
   "source": []
  },
  {
   "cell_type": "code",
   "execution_count": null,
   "id": "e699a931",
   "metadata": {},
   "outputs": [],
   "source": []
  },
  {
   "cell_type": "code",
   "execution_count": null,
   "id": "d66fed9c",
   "metadata": {},
   "outputs": [],
   "source": []
  },
  {
   "cell_type": "code",
   "execution_count": null,
   "id": "83f10d19",
   "metadata": {},
   "outputs": [],
   "source": []
  },
  {
   "cell_type": "code",
   "execution_count": null,
   "id": "216f87db",
   "metadata": {},
   "outputs": [],
   "source": []
  },
  {
   "cell_type": "markdown",
   "id": "0a4a28c1",
   "metadata": {},
   "source": []
  }
 ],
 "metadata": {
  "kernelspec": {
   "display_name": "Python 3 (ipykernel)",
   "language": "python",
   "name": "python3"
  },
  "language_info": {
   "codemirror_mode": {
    "name": "ipython",
    "version": 3
   },
   "file_extension": ".py",
   "mimetype": "text/x-python",
   "name": "python",
   "nbconvert_exporter": "python",
   "pygments_lexer": "ipython3",
   "version": "3.9.12"
  }
 },
 "nbformat": 4,
 "nbformat_minor": 5
}

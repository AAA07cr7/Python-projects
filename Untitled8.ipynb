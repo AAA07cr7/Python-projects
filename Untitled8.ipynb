{
 "cells": [
  {
   "cell_type": "code",
   "execution_count": 7,
   "id": "840944c2",
   "metadata": {},
   "outputs": [
    {
     "name": "stdout",
     "output_type": "stream",
     "text": [
      "enter anything : 1234567\n"
     ]
    }
   ],
   "source": [
    "inp=input(\"enter anything : \")"
   ]
  },
  {
   "cell_type": "code",
   "execution_count": 8,
   "id": "19f3e91b",
   "metadata": {},
   "outputs": [
    {
     "name": "stdout",
     "output_type": "stream",
     "text": [
      "7654321"
     ]
    }
   ],
   "source": [
    "x=-1\n",
    "for i in inp:\n",
    "    print(inp[x],end='')\n",
    "    x=x-1"
   ]
  },
  {
   "cell_type": "code",
   "execution_count": 12,
   "id": "e53d88b8",
   "metadata": {},
   "outputs": [
    {
     "name": "stdout",
     "output_type": "stream",
     "text": [
      "{1: 1, -12: 144, 3: 9, 4: 16, 5: 25, 6: 36, 7: 49, 8: 64, 9: 81}\n"
     ]
    }
   ],
   "source": [
    "dic=dict()\n",
    "list=[1,-12,3,4,5,6,7,8,9]\n",
    "for i in list:\n",
    "    dic[i]=i**2\n",
    "print(dic)"
   ]
  },
  {
   "cell_type": "code",
   "execution_count": 19,
   "id": "99bd616c",
   "metadata": {},
   "outputs": [
    {
     "name": "stdout",
     "output_type": "stream",
     "text": [
      "enter first number :1\n",
      "enter second number :100\n",
      "enter size of list  :25\n"
     ]
    }
   ],
   "source": [
    "import random \n",
    "num1=int(input(\"enter first number :\"))\n",
    "num2=int(input(\"enter second number :\"))\n",
    "num3=int(input(\"enter size of list  :\"))"
   ]
  },
  {
   "cell_type": "code",
   "execution_count": 20,
   "id": "fc836ad0",
   "metadata": {},
   "outputs": [
    {
     "name": "stdout",
     "output_type": "stream",
     "text": [
      "[2, 97, 13, 74, 78, 32, 82, 32, 83, 11, 81, 55, 93, 1, 77, 85, 22, 29, 19, 83, 4, 38, 39, 97, 43]\n"
     ]
    }
   ],
   "source": [
    "lisst=[]\n",
    "for i in range(num3):\n",
    "    lisst.append(random.randint(num1,num2))\n",
    "print(lisst)"
   ]
  },
  {
   "cell_type": "code",
   "execution_count": null,
   "id": "aca4fab5",
   "metadata": {},
   "outputs": [],
   "source": []
  },
  {
   "cell_type": "code",
   "execution_count": null,
   "id": "fbaa6f1a",
   "metadata": {},
   "outputs": [],
   "source": []
  },
  {
   "cell_type": "code",
   "execution_count": null,
   "id": "67af7702",
   "metadata": {},
   "outputs": [],
   "source": []
  },
  {
   "cell_type": "code",
   "execution_count": null,
   "id": "055b2ec3",
   "metadata": {},
   "outputs": [],
   "source": []
  },
  {
   "cell_type": "code",
   "execution_count": null,
   "id": "b7e907fc",
   "metadata": {},
   "outputs": [],
   "source": []
  }
 ],
 "metadata": {
  "kernelspec": {
   "display_name": "Python 3 (ipykernel)",
   "language": "python",
   "name": "python3"
  },
  "language_info": {
   "codemirror_mode": {
    "name": "ipython",
    "version": 3
   },
   "file_extension": ".py",
   "mimetype": "text/x-python",
   "name": "python",
   "nbconvert_exporter": "python",
   "pygments_lexer": "ipython3",
   "version": "3.9.12"
  }
 },
 "nbformat": 4,
 "nbformat_minor": 5
}

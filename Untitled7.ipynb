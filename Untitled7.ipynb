{
 "cells": [
  {
   "cell_type": "markdown",
   "id": "2483b6c7",
   "metadata": {},
   "source": []
  },
  {
   "cell_type": "code",
   "execution_count": 1,
   "id": "06befa98",
   "metadata": {},
   "outputs": [],
   "source": [
    "def palin( lis):\n",
    "    list=[]\n",
    "    st=''\n",
    "    i=-1\n",
    "    for n in name:\n",
    "        \n",
    "        st+=name[i]\n",
    "        i=i-1\n",
    "    if(st==name):\n",
    "        list.append(st)\n",
    "    \n",
    "    \n",
    "    "
   ]
  },
  {
   "cell_type": "code",
   "execution_count": 2,
   "id": "aeb3f92c",
   "metadata": {},
   "outputs": [],
   "source": [
    "list=['anmol','nayan','naman']\n"
   ]
  },
  {
   "cell_type": "code",
   "execution_count": 3,
   "id": "5dea750f",
   "metadata": {},
   "outputs": [
    {
     "ename": "NameError",
     "evalue": "name 'name' is not defined",
     "output_type": "error",
     "traceback": [
      "\u001b[1;31m---------------------------------------------------------------------------\u001b[0m",
      "\u001b[1;31mNameError\u001b[0m                                 Traceback (most recent call last)",
      "Input \u001b[1;32mIn [3]\u001b[0m, in \u001b[0;36m<cell line: 1>\u001b[1;34m()\u001b[0m\n\u001b[0;32m      1\u001b[0m \u001b[38;5;28;01mfor\u001b[39;00m i \u001b[38;5;129;01min\u001b[39;00m \u001b[38;5;28mlist\u001b[39m:\n\u001b[1;32m----> 2\u001b[0m     \u001b[43mpalin\u001b[49m\u001b[43m(\u001b[49m\u001b[43mi\u001b[49m\u001b[43m)\u001b[49m\n",
      "Input \u001b[1;32mIn [1]\u001b[0m, in \u001b[0;36mpalin\u001b[1;34m(lis)\u001b[0m\n\u001b[0;32m      3\u001b[0m st\u001b[38;5;241m=\u001b[39m\u001b[38;5;124m'\u001b[39m\u001b[38;5;124m'\u001b[39m\n\u001b[0;32m      4\u001b[0m i\u001b[38;5;241m=\u001b[39m\u001b[38;5;241m-\u001b[39m\u001b[38;5;241m1\u001b[39m\n\u001b[1;32m----> 5\u001b[0m \u001b[38;5;28;01mfor\u001b[39;00m n \u001b[38;5;129;01min\u001b[39;00m \u001b[43mname\u001b[49m:\n\u001b[0;32m      7\u001b[0m     st\u001b[38;5;241m+\u001b[39m\u001b[38;5;241m=\u001b[39mname[i]\n\u001b[0;32m      8\u001b[0m     i\u001b[38;5;241m=\u001b[39mi\u001b[38;5;241m-\u001b[39m\u001b[38;5;241m1\u001b[39m\n",
      "\u001b[1;31mNameError\u001b[0m: name 'name' is not defined"
     ]
    }
   ],
   "source": [
    "for i in list:\n",
    "    palin(i)"
   ]
  },
  {
   "cell_type": "code",
   "execution_count": null,
   "id": "355e2f49",
   "metadata": {},
   "outputs": [],
   "source": [
    "def fibo(n):\n",
    "    if(n==0):\n",
    "        return 0\n",
    "    elif(n==2 or n==1):\n",
    "        return 1 \n",
    "    else:\n",
    "        return fibo(n-1)+fibo(n-2)\n",
    "print(fibo(255))\n"
   ]
  },
  {
   "cell_type": "code",
   "execution_count": null,
   "id": "9e34fe0a",
   "metadata": {},
   "outputs": [],
   "source": [
    "print(fibo(6))"
   ]
  },
  {
   "cell_type": "code",
   "execution_count": null,
   "id": "8c0d84fc",
   "metadata": {},
   "outputs": [],
   "source": [
    "list1=[1,2,3,4,5,6,7]\n",
    "dict={}\n",
    "for i in list1:\n",
    "    "
   ]
  }
 ],
 "metadata": {
  "kernelspec": {
   "display_name": "Python 3 (ipykernel)",
   "language": "python",
   "name": "python3"
  },
  "language_info": {
   "codemirror_mode": {
    "name": "ipython",
    "version": 3
   },
   "file_extension": ".py",
   "mimetype": "text/x-python",
   "name": "python",
   "nbconvert_exporter": "python",
   "pygments_lexer": "ipython3",
   "version": "3.9.12"
  }
 },
 "nbformat": 4,
 "nbformat_minor": 5
}

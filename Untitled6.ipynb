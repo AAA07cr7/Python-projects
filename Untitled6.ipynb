{
 "cells": [
  {
   "cell_type": "code",
   "execution_count": 2,
   "id": "69bc1490",
   "metadata": {},
   "outputs": [],
   "source": [
    "classs={1:'aabha',2:'aditi',3:'ankit',4:'anmol',6:{7:'yatharth',8:'shivam',9:'vishesh'}}"
   ]
  },
  {
   "cell_type": "code",
   "execution_count": 3,
   "id": "c23d67e4",
   "metadata": {},
   "outputs": [
    {
     "data": {
      "text/plain": [
       "{1: 'aabha',\n",
       " 2: 'aditi',\n",
       " 3: 'ankit',\n",
       " 4: 'anmol',\n",
       " 6: {7: 'yatharth', 8: 'shivam', 9: 'vishesh'}}"
      ]
     },
     "execution_count": 3,
     "metadata": {},
     "output_type": "execute_result"
    }
   ],
   "source": [
    "classs\n"
   ]
  },
  {
   "cell_type": "code",
   "execution_count": 4,
   "id": "ae9ea867",
   "metadata": {},
   "outputs": [
    {
     "data": {
      "text/plain": [
       "dict_keys([1, 2, 3, 4, 6])"
      ]
     },
     "execution_count": 4,
     "metadata": {},
     "output_type": "execute_result"
    }
   ],
   "source": [
    "classs.keys()"
   ]
  },
  {
   "cell_type": "code",
   "execution_count": 5,
   "id": "676000fc",
   "metadata": {},
   "outputs": [],
   "source": [
    "classs.update({5:'himanshu'})"
   ]
  },
  {
   "cell_type": "code",
   "execution_count": 6,
   "id": "0f282a8c",
   "metadata": {},
   "outputs": [
    {
     "data": {
      "text/plain": [
       "{1: 'aabha',\n",
       " 2: 'aditi',\n",
       " 3: 'ankit',\n",
       " 4: 'anmol',\n",
       " 6: {7: 'yatharth', 8: 'shivam', 9: 'vishesh'},\n",
       " 5: 'himanshu'}"
      ]
     },
     "execution_count": 6,
     "metadata": {},
     "output_type": "execute_result"
    }
   ],
   "source": [
    "classs"
   ]
  },
  {
   "cell_type": "code",
   "execution_count": 7,
   "id": "67e529f6",
   "metadata": {},
   "outputs": [
    {
     "data": {
      "text/plain": [
       "dict_items([(1, 'aabha'), (2, 'aditi'), (3, 'ankit'), (4, 'anmol'), (6, {7: 'yatharth', 8: 'shivam', 9: 'vishesh'}), (5, 'himanshu')])"
      ]
     },
     "execution_count": 7,
     "metadata": {},
     "output_type": "execute_result"
    }
   ],
   "source": [
    "classs.items()"
   ]
  },
  {
   "cell_type": "code",
   "execution_count": 8,
   "id": "5e6c308a",
   "metadata": {},
   "outputs": [
    {
     "name": "stdout",
     "output_type": "stream",
     "text": [
      "(5, 'himanshu')\n"
     ]
    }
   ],
   "source": [
    "print(classs.popitem())"
   ]
  },
  {
   "cell_type": "code",
   "execution_count": 9,
   "id": "f620bfa7",
   "metadata": {},
   "outputs": [
    {
     "name": "stdout",
     "output_type": "stream",
     "text": [
      "{7: 'yatharth', 8: 'shivam', 9: 'vishesh'}\n"
     ]
    }
   ],
   "source": [
    "print(classs.pop(6))"
   ]
  },
  {
   "cell_type": "code",
   "execution_count": 10,
   "id": "5f9fde25",
   "metadata": {},
   "outputs": [
    {
     "data": {
      "text/plain": [
       "dict_values(['aabha', 'aditi', 'ankit', 'anmol'])"
      ]
     },
     "execution_count": 10,
     "metadata": {},
     "output_type": "execute_result"
    }
   ],
   "source": [
    "classs.values()"
   ]
  },
  {
   "cell_type": "code",
   "execution_count": 12,
   "id": "b5d91e41",
   "metadata": {},
   "outputs": [
    {
     "ename": "AttributeError",
     "evalue": "'dict' object has no attribute 'Count'",
     "output_type": "error",
     "traceback": [
      "\u001b[1;31m---------------------------------------------------------------------------\u001b[0m",
      "\u001b[1;31mAttributeError\u001b[0m                            Traceback (most recent call last)",
      "Input \u001b[1;32mIn [12]\u001b[0m, in \u001b[0;36m<cell line: 1>\u001b[1;34m()\u001b[0m\n\u001b[1;32m----> 1\u001b[0m \u001b[43mclasss\u001b[49m\u001b[38;5;241;43m.\u001b[39;49m\u001b[43mCount\u001b[49m()\n",
      "\u001b[1;31mAttributeError\u001b[0m: 'dict' object has no attribute 'Count'"
     ]
    }
   ],
   "source": [
    "classs.Count()"
   ]
  },
  {
   "cell_type": "code",
   "execution_count": 16,
   "id": "17cfa133",
   "metadata": {},
   "outputs": [
    {
     "ename": "AttributeError",
     "evalue": "'dict' object has no attribute 'index'",
     "output_type": "error",
     "traceback": [
      "\u001b[1;31m---------------------------------------------------------------------------\u001b[0m",
      "\u001b[1;31mAttributeError\u001b[0m                            Traceback (most recent call last)",
      "Input \u001b[1;32mIn [16]\u001b[0m, in \u001b[0;36m<cell line: 1>\u001b[1;34m()\u001b[0m\n\u001b[1;32m----> 1\u001b[0m \u001b[43mclasss\u001b[49m\u001b[38;5;241;43m.\u001b[39;49m\u001b[43mindex\u001b[49m(\u001b[38;5;124m\"\u001b[39m\u001b[38;5;124manmol\u001b[39m\u001b[38;5;124m\"\u001b[39m)\n",
      "\u001b[1;31mAttributeError\u001b[0m: 'dict' object has no attribute 'index'"
     ]
    }
   ],
   "source": [
    "classs.index(\"anmol\""
   ]
  },
  {
   "cell_type": "code",
   "execution_count": 20,
   "id": "28e0bf04",
   "metadata": {},
   "outputs": [
    {
     "data": {
      "text/plain": [
       "{'a': None, 'n': None, 'm': None, 'o': None, 'l': None}"
      ]
     },
     "execution_count": 20,
     "metadata": {},
     "output_type": "execute_result"
    }
   ],
   "source": [
    "classs.fromkeys('anmol')"
   ]
  },
  {
   "cell_type": "code",
   "execution_count": 22,
   "id": "87d72a22",
   "metadata": {},
   "outputs": [
    {
     "data": {
      "text/plain": [
       "'aabha'"
      ]
     },
     "execution_count": 22,
     "metadata": {},
     "output_type": "execute_result"
    }
   ],
   "source": [
    "classs.setdefault(1)"
   ]
  },
  {
   "cell_type": "code",
   "execution_count": 23,
   "id": "abd02d3f",
   "metadata": {},
   "outputs": [
    {
     "data": {
      "text/plain": [
       "{2: 4, 4: 16, 6: 36}"
      ]
     },
     "execution_count": 23,
     "metadata": {},
     "output_type": "execute_result"
    }
   ],
   "source": [
    "{x: x**2 for x in (2, 4, 6)}"
   ]
  },
  {
   "cell_type": "code",
   "execution_count": 27,
   "id": "d5163b1d",
   "metadata": {},
   "outputs": [
    {
     "name": "stdout",
     "output_type": "stream",
     "text": [
      "{1: None, 2: None, 3: None, 4: None}\n"
     ]
    }
   ],
   "source": [
    "s={1,2,3,4}\n",
    "print(dict.fromkeys(s,None))"
   ]
  },
  {
   "cell_type": "code",
   "execution_count": 39,
   "id": "63f89677",
   "metadata": {},
   "outputs": [],
   "source": [
    "list1=[1,2,3,4,5,6]\n",
    "\n",
    "list2=['anmol','vishesh','sandeep','narayan','ankit','mayur']"
   ]
  },
  {
   "cell_type": "code",
   "execution_count": 41,
   "id": "38ef5bbc",
   "metadata": {},
   "outputs": [
    {
     "ename": "ValueError",
     "evalue": "too many values to unpack (expected 2)",
     "output_type": "error",
     "traceback": [
      "\u001b[1;31m---------------------------------------------------------------------------\u001b[0m",
      "\u001b[1;31mValueError\u001b[0m                                Traceback (most recent call last)",
      "Input \u001b[1;32mIn [41]\u001b[0m, in \u001b[0;36m<cell line: 2>\u001b[1;34m()\u001b[0m\n\u001b[0;32m      1\u001b[0m \u001b[38;5;28mdict\u001b[39m\u001b[38;5;241m=\u001b[39m{}\n\u001b[1;32m----> 2\u001b[0m \u001b[38;5;28;01mfor\u001b[39;00m i,j \u001b[38;5;129;01min\u001b[39;00m list1,list2:\n\u001b[0;32m      3\u001b[0m     \u001b[38;5;28mdict\u001b[39m\u001b[38;5;241m=\u001b[39m{i:j}\n",
      "\u001b[1;31mValueError\u001b[0m: too many values to unpack (expected 2)"
     ]
    }
   ],
   "source": [
    "dict={}\n",
    "for i,j in list1,list2:\n",
    "    dict={i:j}\n",
    "    "
   ]
  },
  {
   "cell_type": "code",
   "execution_count": null,
   "id": "96174ab9",
   "metadata": {},
   "outputs": [],
   "source": [
    "inp=input(\"enter anything : \")"
   ]
  },
  {
   "cell_type": "code",
   "execution_count": null,
   "id": "cc609c13",
   "metadata": {},
   "outputs": [],
   "source": [
    "for i in inp:\n",
    "    print(i[-1])"
   ]
  },
  {
   "cell_type": "code",
   "execution_count": null,
   "id": "20ff473e",
   "metadata": {},
   "outputs": [],
   "source": []
  }
 ],
 "metadata": {
  "kernelspec": {
   "display_name": "Python 3 (ipykernel)",
   "language": "python",
   "name": "python3"
  },
  "language_info": {
   "codemirror_mode": {
    "name": "ipython",
    "version": 3
   },
   "file_extension": ".py",
   "mimetype": "text/x-python",
   "name": "python",
   "nbconvert_exporter": "python",
   "pygments_lexer": "ipython3",
   "version": "3.9.12"
  }
 },
 "nbformat": 4,
 "nbformat_minor": 5
}

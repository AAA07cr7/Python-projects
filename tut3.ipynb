{
 "cells": [
  {
   "cell_type": "code",
   "execution_count": 17,
   "id": "961a2820",
   "metadata": {},
   "outputs": [
    {
     "name": "stdout",
     "output_type": "stream",
     "text": [
      "enter any character : *\n",
      "enter any number: 8\n",
      "        * \n",
      "       * * \n",
      "      * * * \n",
      "     * * * * \n",
      "    * * * * * \n",
      "   * * * * * * \n",
      "  * * * * * * * \n",
      " * * * * * * * * \n"
     ]
    }
   ],
   "source": [
    "def triangle(charac, num):\n",
    "    numm=num-1\n",
    "    numm=int(numm)\n",
    "    for i in range(num):\n",
    "        print((numm)*(\" \"), end = ' ')\n",
    "    \n",
    "        print((i+1)*(charac+\" \"))\n",
    "        numm-=1\n",
    "        \n",
    "charr= input(\"enter any character : \")\n",
    "num=int(input(\"enter any number: \"))\n",
    "triangle(charr,num)"
   ]
  },
  {
   "cell_type": "code",
   "execution_count": 18,
   "id": "f5483719",
   "metadata": {},
   "outputs": [
    {
     "name": "stdout",
     "output_type": "stream",
     "text": [
      "enter any character : &\n",
      "enter any number: 8\n",
      "        & \n",
      "       & & \n",
      "      & & & \n",
      "     & & & & \n",
      "    & & & & & \n",
      "   & & & & & & \n",
      "  & & & & & & & \n",
      " & & & & & & & & \n"
     ]
    }
   ],
   "source": [
    "charr= input(\"enter any character : \")\n",
    "num=int(input(\"enter any number: \"))\n",
    "numm=num-1\n",
    "numm=int(numm)\n",
    "for i in range(num):\n",
    "    print((numm)*(\" \"), end = ' ')\n",
    "    print((i+1)*(charr+\" \"))\n",
    "    numm-=1\n",
    "        \n"
   ]
  },
  {
   "cell_type": "code",
   "execution_count": 5,
   "id": "2a26819d",
   "metadata": {},
   "outputs": [
    {
     "name": "stdout",
     "output_type": "stream",
     "text": [
      "enter any character : &\n",
      "enter any numbe r: 8\n",
      " & & & & & & & & \n",
      "  & & & & & & & \n",
      "   & & & & & & \n",
      "    & & & & & \n",
      "     & & & & \n",
      "      & & & \n",
      "       & & \n",
      "        & \n"
     ]
    }
   ],
   "source": [
    "charr= input(\"enter any character : \")\n",
    "num=int(input(\"enter any numbe r: \"))\n",
    "numm=0\n",
    "for i in range(num):\n",
    "    print((numm)*(\" \"), end = ' ')\n",
    "    print((num)*(charr+\" \"))\n",
    "    num=num-1\n",
    "    numm=numm+1"
   ]
  },
  {
   "cell_type": "code",
   "execution_count": 14,
   "id": "d3b970cc",
   "metadata": {},
   "outputs": [
    {
     "name": "stdout",
     "output_type": "stream",
     "text": [
      "enter any character : *\n",
      "enter any numbe r: 9\n",
      "         * \n",
      "        * * \n",
      "       * * * \n",
      "      * * * * \n",
      "     * * * * * \n",
      "    * * * * * * \n",
      "   * * * * * * * \n",
      "  * * * * * * * * \n",
      " * * * * * * * * * \n",
      "  * * * * * * * *\n",
      "   * * * * * * *\n",
      "    * * * * * *\n",
      "     * * * * *\n",
      "      * * * *\n",
      "       * * *\n",
      "        * *\n",
      "         *\n"
     ]
    }
   ],
   "source": [
    "charr= input(\"enter any character : \")\n",
    "num=int(input(\"enter any numbe r: \"))\n",
    "numm=num-1\n",
    "numm=int(numm)\n",
    "for i in range(num):\n",
    "    \n",
    "    \n",
    "    \n",
    "    print((numm)*(\" \"), end = ' ')\n",
    "    \n",
    "    print((i+1)*(charr+\" \"))\n",
    "    numm-=1\n",
    "    if(i==num-1):\n",
    "        num=num-1\n",
    "        numm=0\n",
    "        for i in range(num):\n",
    "            print((numm)*(\" \"), end = ' ')\n",
    "            print((num)*(\" \"+charr))\n",
    "            num=num-1\n",
    "            numm=numm+1\n",
    "        "
   ]
  },
  {
   "cell_type": "code",
   "execution_count": 22,
   "id": "7585722e",
   "metadata": {},
   "outputs": [
    {
     "ename": "SyntaxError",
     "evalue": "invalid syntax (1182000723.py, line 1)",
     "output_type": "error",
     "traceback": [
      "\u001b[1;36m  Input \u001b[1;32mIn [22]\u001b[1;36m\u001b[0m\n\u001b[1;33m    def tri(charr= input(\"enter any character : \"):\u001b[0m\n\u001b[1;37m                                                  ^\u001b[0m\n\u001b[1;31mSyntaxError\u001b[0m\u001b[1;31m:\u001b[0m invalid syntax\n"
     ]
    }
   ],
   "source": [
    "def tri(charr= input(\"enter any character : \"):\n",
    "        print(charr)\n",
    "    "
   ]
  },
  {
   "cell_type": "code",
   "execution_count": null,
   "id": "2117f89a",
   "metadata": {},
   "outputs": [],
   "source": []
  },
  {
   "cell_type": "code",
   "execution_count": null,
   "id": "5326efb7",
   "metadata": {},
   "outputs": [],
   "source": []
  }
 ],
 "metadata": {
  "kernelspec": {
   "display_name": "Python 3 (ipykernel)",
   "language": "python",
   "name": "python3"
  },
  "language_info": {
   "codemirror_mode": {
    "name": "ipython",
    "version": 3
   },
   "file_extension": ".py",
   "mimetype": "text/x-python",
   "name": "python",
   "nbconvert_exporter": "python",
   "pygments_lexer": "ipython3",
   "version": "3.9.12"
  }
 },
 "nbformat": 4,
 "nbformat_minor": 5
}
